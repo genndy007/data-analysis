{
 "cells": [
  {
   "cell_type": "markdown",
   "id": "c2b8e096",
   "metadata": {},
   "source": [
    "# Importing everything we need"
   ]
  },
  {
   "cell_type": "code",
   "execution_count": 1,
   "id": "f57bf173",
   "metadata": {},
   "outputs": [],
   "source": [
    "from mlxtend.preprocessing import TransactionEncoder    # For transactions processing\n",
    "from mlxtend.frequent_patterns import apriori, association_rules   # Functions for finding out association rules\n",
    "import pandas as pd   # Pandas for dataframes\n",
    "from csv import reader   # For csv files processing"
   ]
  },
  {
   "cell_type": "markdown",
   "id": "060e818e",
   "metadata": {},
   "source": [
    "# Process csv file into matrix for comfortability"
   ]
  },
  {
   "cell_type": "code",
   "execution_count": 2,
   "id": "eb99c63d",
   "metadata": {},
   "outputs": [],
   "source": [
    "# Dataset: list of transactions in csv format\n",
    "def csv_to_stacklist(file):\n",
    "    with open(file) as read_obj:\n",
    "        csv_reader = reader(read_obj)\n",
    "        dataset = list(csv_reader)\n",
    "    return dataset"
   ]
  },
  {
   "cell_type": "markdown",
   "id": "a4228290",
   "metadata": {},
   "source": [
    "# Creating dataframe from matrix with encoder"
   ]
  },
  {
   "cell_type": "code",
   "execution_count": 3,
   "id": "91d8f6ee",
   "metadata": {},
   "outputs": [],
   "source": [
    "def create_logical_df(dst):\n",
    "    te = TransactionEncoder()\n",
    "    te_ary = te.fit(dst).transform(dst)\n",
    "    df = pd.DataFrame(te_ary, columns=te.columns_)\n",
    "    return df"
   ]
  },
  {
   "cell_type": "markdown",
   "id": "577fb83c",
   "metadata": {},
   "source": [
    "# Setting up parameters for learning"
   ]
  },
  {
   "cell_type": "code",
   "execution_count": 4,
   "id": "daebff1b",
   "metadata": {},
   "outputs": [],
   "source": [
    "path = 'groceries.csv'\n",
    "support = 0.02\n",
    "confidence = 0.25\n",
    "lift = 1.7"
   ]
  },
  {
   "cell_type": "markdown",
   "id": "9aecf316",
   "metadata": {},
   "source": [
    "# Getting to compound"
   ]
  },
  {
   "cell_type": "code",
   "execution_count": 5,
   "id": "7ecc8161",
   "metadata": {},
   "outputs": [],
   "source": [
    "dst = csv_to_stacklist(path)\n",
    "df = create_logical_df(dst)"
   ]
  },
  {
   "cell_type": "markdown",
   "id": "19464fa3",
   "metadata": {},
   "source": [
    "# Finding frequent itemsets from dataframe"
   ]
  },
  {
   "cell_type": "code",
   "execution_count": 6,
   "id": "c250c987",
   "metadata": {},
   "outputs": [
    {
     "name": "stdout",
     "output_type": "stream",
     "text": [
      "      support                                         itemsets\n",
      "0    0.033452                                       (UHT-milk)\n",
      "1    0.052466                                           (beef)\n",
      "2    0.033249                                        (berries)\n",
      "3    0.026029                                      (beverages)\n",
      "4    0.080529                                   (bottled beer)\n",
      "..        ...                                              ...\n",
      "117  0.032232                 (whole milk, whipped/sour cream)\n",
      "118  0.020742                     (yogurt, whipped/sour cream)\n",
      "119  0.056024                             (yogurt, whole milk)\n",
      "120  0.023183  (other vegetables, root vegetables, whole milk)\n",
      "121  0.022267           (other vegetables, yogurt, whole milk)\n",
      "\n",
      "[122 rows x 2 columns]\n"
     ]
    }
   ],
   "source": [
    "frequent_itemsets = apriori(df, min_support=support, use_colnames=True)\n",
    "print(frequent_itemsets)"
   ]
  },
  {
   "cell_type": "markdown",
   "id": "69dbaed9",
   "metadata": {},
   "source": [
    "# Finding association rules out of itemsets"
   ]
  },
  {
   "cell_type": "code",
   "execution_count": 7,
   "id": "1f5921dd",
   "metadata": {},
   "outputs": [
    {
     "name": "stdout",
     "output_type": "stream",
     "text": [
      "                            antecedents         consequents   support  confidence      lift\n",
      "5                              (butter)  (other vegetables)  0.020031    0.361468  1.868122\n",
      "6                              (butter)        (whole milk)  0.027555    0.497248  1.946053\n",
      "7                        (citrus fruit)  (other vegetables)  0.028876    0.348894  1.803140\n",
      "9                        (citrus fruit)            (yogurt)  0.021657    0.261671  1.875752\n",
      "10                               (curd)        (whole milk)  0.026131    0.490458  1.919481\n",
      "11                      (domestic eggs)  (other vegetables)  0.022267    0.350962  1.813824\n",
      "12                      (domestic eggs)        (whole milk)  0.029995    0.472756  1.850203\n",
      "20                          (pip fruit)  (other vegetables)  0.026131    0.345430  1.785237\n",
      "21                               (pork)  (other vegetables)  0.021657    0.375661  1.941476\n",
      "22                    (root vegetables)  (other vegetables)  0.047382    0.434701  2.246605\n",
      "24                     (tropical fruit)  (other vegetables)  0.035892    0.342054  1.767790\n",
      "25                 (whipped/sour cream)  (other vegetables)  0.028876    0.402837  2.081924\n",
      "30                          (pip fruit)    (tropical fruit)  0.020437    0.270161  2.574648\n",
      "33                            (sausage)        (rolls/buns)  0.030605    0.325758  1.771048\n",
      "35                    (root vegetables)        (whole milk)  0.048907    0.448694  1.756031\n",
      "39                     (tropical fruit)            (yogurt)  0.029283    0.279070  2.000475\n",
      "40                 (whipped/sour cream)        (whole milk)  0.032232    0.449645  1.759754\n",
      "41                 (whipped/sour cream)            (yogurt)  0.020742    0.289362  2.074251\n",
      "43  (other vegetables, root vegetables)        (whole milk)  0.023183    0.489270  1.914833\n",
      "44       (other vegetables, whole milk)   (root vegetables)  0.023183    0.309783  2.842082\n",
      "45        (root vegetables, whole milk)  (other vegetables)  0.023183    0.474012  2.449770\n",
      "46           (other vegetables, yogurt)        (whole milk)  0.022267    0.512881  2.007235\n",
      "47       (other vegetables, whole milk)            (yogurt)  0.022267    0.297554  2.132979\n",
      "48                 (yogurt, whole milk)  (other vegetables)  0.022267    0.397459  2.054131\n"
     ]
    }
   ],
   "source": [
    "res = association_rules(frequent_itemsets, metric=\"confidence\", min_threshold=confidence)[\n",
    "        ['antecedents', 'consequents', 'support', 'confidence', 'lift']]\n",
    "print(res[res['lift'] >= lift].to_string())"
   ]
  }
 ],
 "metadata": {
  "kernelspec": {
   "display_name": "Python 3",
   "language": "python",
   "name": "python3"
  },
  "language_info": {
   "codemirror_mode": {
    "name": "ipython",
    "version": 3
   },
   "file_extension": ".py",
   "mimetype": "text/x-python",
   "name": "python",
   "nbconvert_exporter": "python",
   "pygments_lexer": "ipython3",
   "version": "3.9.5"
  }
 },
 "nbformat": 4,
 "nbformat_minor": 5
}
