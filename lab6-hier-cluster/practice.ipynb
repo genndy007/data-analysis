{
 "cells": [
  {
   "source": [
    "# Hierarchical Clustering "
   ],
   "cell_type": "code",
   "metadata": {},
   "execution_count": null,
   "outputs": []
  },
  {
   "cell_type": "markdown",
   "id": "graduate-aggregate",
   "metadata": {},
   "source": [
    "## Import libraries"
   ]
  },
  {
   "cell_type": "code",
   "execution_count": 1,
   "id": "quick-finance",
   "metadata": {},
   "outputs": [],
   "source": [
    "import pandas as pd\n",
    "import numpy as np\n",
    "\n",
    "import matplotlib.pyplot as plt\n",
    "import seaborn as sns\n",
    "\n",
    "from sklearn import decomposition\n",
    "from sklearn import preprocessing\n",
    "from sklearn.metrics import silhouette_score\n",
    "\n",
    "import docx\n",
    "from docx import Document\n",
    "\n",
    "from scipy.spatial import distance\n",
    "from scipy.cluster import hierarchy\n",
    "\n",
    "from collections import defaultdict"
   ]
  },
  {
   "cell_type": "markdown",
   "id": "empty-vintage",
   "metadata": {},
   "source": [
    "## Read tables"
   ]
  },
  {
   "cell_type": "code",
   "execution_count": 2,
   "id": "ruled-howard",
   "metadata": {},
   "outputs": [],
   "source": [
    "document = Document('data/data10.docx')\n",
    "tables = document.tables[1:]"
   ]
  },
  {
   "cell_type": "markdown",
   "id": "running-deployment",
   "metadata": {},
   "source": [
    "## Convert table to pandas DataFrame"
   ]
  },
  {
   "cell_type": "code",
   "execution_count": 3,
   "id": "standing-albania",
   "metadata": {},
   "outputs": [],
   "source": [
    "def table_to_df(table: docx.table.Table, columns: list[str]) -> pd.DataFrame:\n",
    "    data = np.array([\n",
    "        [cell.text for cell in row.cells]\n",
    "        for row in table.rows[4:]\n",
    "    ])\n",
    "    df = pd.DataFrame(data=data, columns=columns)\n",
    "    df.set_index(df.columns[0], inplace=True)\n",
    "    return df"
   ]
  },
  {
   "cell_type": "code",
   "execution_count": 4,
   "id": "isolated-motion",
   "metadata": {},
   "outputs": [],
   "source": [
    "f_columns = ['area', 'total_0', 'total_1', 'stocks_0', 'stocks_1','biology_0', 'biology_1', 'debt_0', 'debt_1']\n",
    "s_columns = ['area', 'invest_0', 'invest_1', 'funds_0', 'funds_1', 'spends_0', 'spends_1', 'other_0', 'other_1']"
   ]
  },
  {
   "cell_type": "code",
   "execution_count": 5,
   "id": "framed-partition",
   "metadata": {
    "scrolled": true
   },
   "outputs": [],
   "source": [
    "f_part = table_to_df(tables[0], f_columns)\n",
    "s_part = table_to_df(tables[1], s_columns)\n",
    "df = f_part.join(s_part)"
   ]
  },
  {
   "cell_type": "code",
   "execution_count": 6,
   "id": "effective-likelihood",
   "metadata": {},
   "outputs": [],
   "source": [
    "df = df.applymap(\n",
    "    lambda x: x.replace(',', '.')\n",
    ").astype(float)"
   ]
  },
  {
   "cell_type": "code",
   "execution_count": 7,
   "id": "basic-haiti",
   "metadata": {
    "scrolled": false
   },
   "outputs": [
    {
     "data": {
      "text/html": [
       "<div>\n",
       "<style scoped>\n",
       "    .dataframe tbody tr th:only-of-type {\n",
       "        vertical-align: middle;\n",
       "    }\n",
       "\n",
       "    .dataframe tbody tr th {\n",
       "        vertical-align: top;\n",
       "    }\n",
       "\n",
       "    .dataframe thead th {\n",
       "        text-align: right;\n",
       "    }\n",
       "</style>\n",
       "<table border=\"1\" class=\"dataframe\">\n",
       "  <thead>\n",
       "    <tr style=\"text-align: right;\">\n",
       "      <th></th>\n",
       "      <th>total_0</th>\n",
       "      <th>total_1</th>\n",
       "      <th>stocks_0</th>\n",
       "      <th>stocks_1</th>\n",
       "      <th>biology_0</th>\n",
       "      <th>biology_1</th>\n",
       "      <th>debt_0</th>\n",
       "      <th>debt_1</th>\n",
       "      <th>invest_0</th>\n",
       "      <th>invest_1</th>\n",
       "      <th>funds_0</th>\n",
       "      <th>funds_1</th>\n",
       "      <th>spends_0</th>\n",
       "      <th>spends_1</th>\n",
       "      <th>other_0</th>\n",
       "      <th>other_1</th>\n",
       "    </tr>\n",
       "    <tr>\n",
       "      <th>area</th>\n",
       "      <th></th>\n",
       "      <th></th>\n",
       "      <th></th>\n",
       "      <th></th>\n",
       "      <th></th>\n",
       "      <th></th>\n",
       "      <th></th>\n",
       "      <th></th>\n",
       "      <th></th>\n",
       "      <th></th>\n",
       "      <th></th>\n",
       "      <th></th>\n",
       "      <th></th>\n",
       "      <th></th>\n",
       "      <th></th>\n",
       "      <th></th>\n",
       "    </tr>\n",
       "  </thead>\n",
       "  <tbody>\n",
       "    <tr>\n",
       "      <th>сільське, лісове та рибне господарство</th>\n",
       "      <td>175091.8</td>\n",
       "      <td>195021.3</td>\n",
       "      <td>59786.9</td>\n",
       "      <td>66754.2</td>\n",
       "      <td>11737.9</td>\n",
       "      <td>11873.7</td>\n",
       "      <td>86979.5</td>\n",
       "      <td>98290.2</td>\n",
       "      <td>1520.1</td>\n",
       "      <td>1330.5</td>\n",
       "      <td>9169.1</td>\n",
       "      <td>9885.4</td>\n",
       "      <td>1748.7</td>\n",
       "      <td>1863.3</td>\n",
       "      <td>4149.6</td>\n",
       "      <td>5024.0</td>\n",
       "    </tr>\n",
       "    <tr>\n",
       "      <th>промисловість</th>\n",
       "      <td>789188.0</td>\n",
       "      <td>838708.6</td>\n",
       "      <td>206835.8</td>\n",
       "      <td>223348.3</td>\n",
       "      <td>1028.3</td>\n",
       "      <td>1085.4</td>\n",
       "      <td>491528.4</td>\n",
       "      <td>512093.2</td>\n",
       "      <td>12198.8</td>\n",
       "      <td>13020.2</td>\n",
       "      <td>47191.2</td>\n",
       "      <td>52376.3</td>\n",
       "      <td>11365.7</td>\n",
       "      <td>13718.6</td>\n",
       "      <td>19039.8</td>\n",
       "      <td>23066.6</td>\n",
       "    </tr>\n",
       "    <tr>\n",
       "      <th>будівництво</th>\n",
       "      <td>165019.1</td>\n",
       "      <td>186205.6</td>\n",
       "      <td>40724.3</td>\n",
       "      <td>47075.4</td>\n",
       "      <td>2.5</td>\n",
       "      <td>3.3</td>\n",
       "      <td>87345.9</td>\n",
       "      <td>98888.6</td>\n",
       "      <td>17704.6</td>\n",
       "      <td>18053.1</td>\n",
       "      <td>7061.0</td>\n",
       "      <td>8760.9</td>\n",
       "      <td>3622.7</td>\n",
       "      <td>3536.4</td>\n",
       "      <td>8558.1</td>\n",
       "      <td>9887.9</td>\n",
       "    </tr>\n",
       "    <tr>\n",
       "      <th>оптова та роздрібна торгівля; ремонт автотранспортних засобів і мотоциклів</th>\n",
       "      <td>882977.2</td>\n",
       "      <td>930514.9</td>\n",
       "      <td>175134.5</td>\n",
       "      <td>190731.4</td>\n",
       "      <td>455.8</td>\n",
       "      <td>194.3</td>\n",
       "      <td>540909.8</td>\n",
       "      <td>560446.8</td>\n",
       "      <td>84134.5</td>\n",
       "      <td>85200.7</td>\n",
       "      <td>50376.8</td>\n",
       "      <td>56632.1</td>\n",
       "      <td>10866.2</td>\n",
       "      <td>14383.0</td>\n",
       "      <td>21099.6</td>\n",
       "      <td>22926.6</td>\n",
       "    </tr>\n",
       "    <tr>\n",
       "      <th>транспорт, складське господарство, поштова та кур'єрська діяльність</th>\n",
       "      <td>115070.6</td>\n",
       "      <td>126248.0</td>\n",
       "      <td>20826.3</td>\n",
       "      <td>23175.1</td>\n",
       "      <td>31.5</td>\n",
       "      <td>21.6</td>\n",
       "      <td>62756.0</td>\n",
       "      <td>73843.0</td>\n",
       "      <td>3051.0</td>\n",
       "      <td>2578.3</td>\n",
       "      <td>23733.2</td>\n",
       "      <td>21325.4</td>\n",
       "      <td>1855.7</td>\n",
       "      <td>2032.3</td>\n",
       "      <td>2816.9</td>\n",
       "      <td>3272.3</td>\n",
       "    </tr>\n",
       "    <tr>\n",
       "      <th>тимчасове розміщування й організація харчування</th>\n",
       "      <td>10414.7</td>\n",
       "      <td>11431.3</td>\n",
       "      <td>1433.2</td>\n",
       "      <td>1649.3</td>\n",
       "      <td>0.6</td>\n",
       "      <td>0.3</td>\n",
       "      <td>5915.4</td>\n",
       "      <td>7071.0</td>\n",
       "      <td>1228.9</td>\n",
       "      <td>650.6</td>\n",
       "      <td>1080.2</td>\n",
       "      <td>1049.1</td>\n",
       "      <td>299.2</td>\n",
       "      <td>366.7</td>\n",
       "      <td>457.2</td>\n",
       "      <td>644.3</td>\n",
       "    </tr>\n",
       "    <tr>\n",
       "      <th>інформація та телекомунікації</th>\n",
       "      <td>38767.9</td>\n",
       "      <td>38709.2</td>\n",
       "      <td>3504.3</td>\n",
       "      <td>3201.5</td>\n",
       "      <td>0.6</td>\n",
       "      <td>0.7</td>\n",
       "      <td>21875.8</td>\n",
       "      <td>21477.8</td>\n",
       "      <td>4783.8</td>\n",
       "      <td>5326.6</td>\n",
       "      <td>6744.3</td>\n",
       "      <td>6574.9</td>\n",
       "      <td>739.2</td>\n",
       "      <td>1014.1</td>\n",
       "      <td>1119.9</td>\n",
       "      <td>1113.6</td>\n",
       "    </tr>\n",
       "    <tr>\n",
       "      <th>фінансова та страхова діяльність</th>\n",
       "      <td>283391.2</td>\n",
       "      <td>282358.9</td>\n",
       "      <td>82564.2</td>\n",
       "      <td>68270.3</td>\n",
       "      <td>0.2</td>\n",
       "      <td>0.2</td>\n",
       "      <td>108341.3</td>\n",
       "      <td>115847.9</td>\n",
       "      <td>69818.7</td>\n",
       "      <td>72418.5</td>\n",
       "      <td>16724.4</td>\n",
       "      <td>19245.5</td>\n",
       "      <td>753.0</td>\n",
       "      <td>958.0</td>\n",
       "      <td>5189.4</td>\n",
       "      <td>5618.5</td>\n",
       "    </tr>\n",
       "    <tr>\n",
       "      <th>операції з нерухомим майном</th>\n",
       "      <td>140066.5</td>\n",
       "      <td>147607.3</td>\n",
       "      <td>8781.2</td>\n",
       "      <td>9432.5</td>\n",
       "      <td>14.7</td>\n",
       "      <td>42.9</td>\n",
       "      <td>95358.3</td>\n",
       "      <td>96525.4</td>\n",
       "      <td>16326.8</td>\n",
       "      <td>18499.0</td>\n",
       "      <td>11009.0</td>\n",
       "      <td>12841.1</td>\n",
       "      <td>2923.4</td>\n",
       "      <td>3277.7</td>\n",
       "      <td>5653.1</td>\n",
       "      <td>6988.7</td>\n",
       "    </tr>\n",
       "    <tr>\n",
       "      <th>професійна, наукова та технічна діяльність</th>\n",
       "      <td>235647.3</td>\n",
       "      <td>255690.6</td>\n",
       "      <td>58941.3</td>\n",
       "      <td>46262.0</td>\n",
       "      <td>0.6</td>\n",
       "      <td>1.1</td>\n",
       "      <td>131463.5</td>\n",
       "      <td>161379.0</td>\n",
       "      <td>26981.0</td>\n",
       "      <td>28320.5</td>\n",
       "      <td>13591.6</td>\n",
       "      <td>14743.3</td>\n",
       "      <td>1155.8</td>\n",
       "      <td>992.1</td>\n",
       "      <td>3513.5</td>\n",
       "      <td>3992.6</td>\n",
       "    </tr>\n",
       "    <tr>\n",
       "      <th>діяльність у сфері адміністративного та допоміжного обслуговування</th>\n",
       "      <td>39974.4</td>\n",
       "      <td>43468.0</td>\n",
       "      <td>1790.8</td>\n",
       "      <td>2191.3</td>\n",
       "      <td>1.3</td>\n",
       "      <td>1.8</td>\n",
       "      <td>23606.9</td>\n",
       "      <td>26350.2</td>\n",
       "      <td>8773.6</td>\n",
       "      <td>8752.0</td>\n",
       "      <td>2286.5</td>\n",
       "      <td>2481.8</td>\n",
       "      <td>2130.8</td>\n",
       "      <td>2240.7</td>\n",
       "      <td>1384.5</td>\n",
       "      <td>1450.2</td>\n",
       "    </tr>\n",
       "    <tr>\n",
       "      <th>освіта</th>\n",
       "      <td>623.8</td>\n",
       "      <td>642.3</td>\n",
       "      <td>46.2</td>\n",
       "      <td>51.6</td>\n",
       "      <td>0.0</td>\n",
       "      <td>0.0</td>\n",
       "      <td>333.3</td>\n",
       "      <td>322.4</td>\n",
       "      <td>9.1</td>\n",
       "      <td>11.3</td>\n",
       "      <td>197.2</td>\n",
       "      <td>215.6</td>\n",
       "      <td>16.5</td>\n",
       "      <td>17.3</td>\n",
       "      <td>21.5</td>\n",
       "      <td>24.1</td>\n",
       "    </tr>\n",
       "    <tr>\n",
       "      <th>охорона здоров'я та надання соціальної допомоги</th>\n",
       "      <td>2361.0</td>\n",
       "      <td>3073.2</td>\n",
       "      <td>475.5</td>\n",
       "      <td>576.2</td>\n",
       "      <td>0.1</td>\n",
       "      <td>0.1</td>\n",
       "      <td>1141.7</td>\n",
       "      <td>1535.8</td>\n",
       "      <td>179.0</td>\n",
       "      <td>199.2</td>\n",
       "      <td>355.6</td>\n",
       "      <td>547.4</td>\n",
       "      <td>123.0</td>\n",
       "      <td>117.0</td>\n",
       "      <td>86.1</td>\n",
       "      <td>97.5</td>\n",
       "    </tr>\n",
       "    <tr>\n",
       "      <th>мистецтво, спорт, розваги та відпочинок</th>\n",
       "      <td>6184.7</td>\n",
       "      <td>7923.3</td>\n",
       "      <td>548.8</td>\n",
       "      <td>581.3</td>\n",
       "      <td>1.2</td>\n",
       "      <td>1.2</td>\n",
       "      <td>2658.3</td>\n",
       "      <td>3153.8</td>\n",
       "      <td>1022.0</td>\n",
       "      <td>2013.2</td>\n",
       "      <td>857.4</td>\n",
       "      <td>995.6</td>\n",
       "      <td>211.4</td>\n",
       "      <td>239.2</td>\n",
       "      <td>885.6</td>\n",
       "      <td>939.0</td>\n",
       "    </tr>\n",
       "    <tr>\n",
       "      <th>надання інших видів послуг</th>\n",
       "      <td>1325.7</td>\n",
       "      <td>1439.0</td>\n",
       "      <td>293.1</td>\n",
       "      <td>287.4</td>\n",
       "      <td>0.1</td>\n",
       "      <td>0.1</td>\n",
       "      <td>770.7</td>\n",
       "      <td>878.6</td>\n",
       "      <td>66.9</td>\n",
       "      <td>58.7</td>\n",
       "      <td>105.2</td>\n",
       "      <td>124.6</td>\n",
       "      <td>24.9</td>\n",
       "      <td>19.7</td>\n",
       "      <td>64.8</td>\n",
       "      <td>69.9</td>\n",
       "    </tr>\n",
       "  </tbody>\n",
       "</table>\n",
       "</div>"
      ],
      "text/plain": [
       "                                                     total_0   total_1  \\\n",
       "area                                                                     \n",
       "сільське, лісове та рибне господарство              175091.8  195021.3   \n",
       "промисловість                                       789188.0  838708.6   \n",
       "будівництво                                         165019.1  186205.6   \n",
       "оптова та роздрібна торгівля; ремонт автотрансп...  882977.2  930514.9   \n",
       "транспорт, складське господарство, поштова та к...  115070.6  126248.0   \n",
       "тимчасове розміщування й організація харчування      10414.7   11431.3   \n",
       "інформація та телекомунікації                        38767.9   38709.2   \n",
       "фінансова та страхова діяльність                    283391.2  282358.9   \n",
       "операції з нерухомим майном                         140066.5  147607.3   \n",
       "професійна, наукова та технічна діяльність          235647.3  255690.6   \n",
       "діяльність у сфері адміністративного та допоміж...   39974.4   43468.0   \n",
       "освіта                                                 623.8     642.3   \n",
       "охорона здоров'я та надання соціальної допомоги       2361.0    3073.2   \n",
       "мистецтво, спорт, розваги та відпочинок               6184.7    7923.3   \n",
       "надання інших видів послуг                            1325.7    1439.0   \n",
       "\n",
       "                                                    stocks_0  stocks_1  \\\n",
       "area                                                                     \n",
       "сільське, лісове та рибне господарство               59786.9   66754.2   \n",
       "промисловість                                       206835.8  223348.3   \n",
       "будівництво                                          40724.3   47075.4   \n",
       "оптова та роздрібна торгівля; ремонт автотрансп...  175134.5  190731.4   \n",
       "транспорт, складське господарство, поштова та к...   20826.3   23175.1   \n",
       "тимчасове розміщування й організація харчування       1433.2    1649.3   \n",
       "інформація та телекомунікації                         3504.3    3201.5   \n",
       "фінансова та страхова діяльність                     82564.2   68270.3   \n",
       "операції з нерухомим майном                           8781.2    9432.5   \n",
       "професійна, наукова та технічна діяльність           58941.3   46262.0   \n",
       "діяльність у сфері адміністративного та допоміж...    1790.8    2191.3   \n",
       "освіта                                                  46.2      51.6   \n",
       "охорона здоров'я та надання соціальної допомоги        475.5     576.2   \n",
       "мистецтво, спорт, розваги та відпочинок                548.8     581.3   \n",
       "надання інших видів послуг                             293.1     287.4   \n",
       "\n",
       "                                                    biology_0  biology_1  \\\n",
       "area                                                                       \n",
       "сільське, лісове та рибне господарство                11737.9    11873.7   \n",
       "промисловість                                          1028.3     1085.4   \n",
       "будівництво                                               2.5        3.3   \n",
       "оптова та роздрібна торгівля; ремонт автотрансп...      455.8      194.3   \n",
       "транспорт, складське господарство, поштова та к...       31.5       21.6   \n",
       "тимчасове розміщування й організація харчування           0.6        0.3   \n",
       "інформація та телекомунікації                             0.6        0.7   \n",
       "фінансова та страхова діяльність                          0.2        0.2   \n",
       "операції з нерухомим майном                              14.7       42.9   \n",
       "професійна, наукова та технічна діяльність                0.6        1.1   \n",
       "діяльність у сфері адміністративного та допоміж...        1.3        1.8   \n",
       "освіта                                                    0.0        0.0   \n",
       "охорона здоров'я та надання соціальної допомоги           0.1        0.1   \n",
       "мистецтво, спорт, розваги та відпочинок                   1.2        1.2   \n",
       "надання інших видів послуг                                0.1        0.1   \n",
       "\n",
       "                                                      debt_0    debt_1  \\\n",
       "area                                                                     \n",
       "сільське, лісове та рибне господарство               86979.5   98290.2   \n",
       "промисловість                                       491528.4  512093.2   \n",
       "будівництво                                          87345.9   98888.6   \n",
       "оптова та роздрібна торгівля; ремонт автотрансп...  540909.8  560446.8   \n",
       "транспорт, складське господарство, поштова та к...   62756.0   73843.0   \n",
       "тимчасове розміщування й організація харчування       5915.4    7071.0   \n",
       "інформація та телекомунікації                        21875.8   21477.8   \n",
       "фінансова та страхова діяльність                    108341.3  115847.9   \n",
       "операції з нерухомим майном                          95358.3   96525.4   \n",
       "професійна, наукова та технічна діяльність          131463.5  161379.0   \n",
       "діяльність у сфері адміністративного та допоміж...   23606.9   26350.2   \n",
       "освіта                                                 333.3     322.4   \n",
       "охорона здоров'я та надання соціальної допомоги       1141.7    1535.8   \n",
       "мистецтво, спорт, розваги та відпочинок               2658.3    3153.8   \n",
       "надання інших видів послуг                             770.7     878.6   \n",
       "\n",
       "                                                    invest_0  invest_1  \\\n",
       "area                                                                     \n",
       "сільське, лісове та рибне господарство                1520.1    1330.5   \n",
       "промисловість                                        12198.8   13020.2   \n",
       "будівництво                                          17704.6   18053.1   \n",
       "оптова та роздрібна торгівля; ремонт автотрансп...   84134.5   85200.7   \n",
       "транспорт, складське господарство, поштова та к...    3051.0    2578.3   \n",
       "тимчасове розміщування й організація харчування       1228.9     650.6   \n",
       "інформація та телекомунікації                         4783.8    5326.6   \n",
       "фінансова та страхова діяльність                     69818.7   72418.5   \n",
       "операції з нерухомим майном                          16326.8   18499.0   \n",
       "професійна, наукова та технічна діяльність           26981.0   28320.5   \n",
       "діяльність у сфері адміністративного та допоміж...    8773.6    8752.0   \n",
       "освіта                                                   9.1      11.3   \n",
       "охорона здоров'я та надання соціальної допомоги        179.0     199.2   \n",
       "мистецтво, спорт, розваги та відпочинок               1022.0    2013.2   \n",
       "надання інших видів послуг                              66.9      58.7   \n",
       "\n",
       "                                                    funds_0  funds_1  \\\n",
       "area                                                                   \n",
       "сільське, лісове та рибне господарство               9169.1   9885.4   \n",
       "промисловість                                       47191.2  52376.3   \n",
       "будівництво                                          7061.0   8760.9   \n",
       "оптова та роздрібна торгівля; ремонт автотрансп...  50376.8  56632.1   \n",
       "транспорт, складське господарство, поштова та к...  23733.2  21325.4   \n",
       "тимчасове розміщування й організація харчування      1080.2   1049.1   \n",
       "інформація та телекомунікації                        6744.3   6574.9   \n",
       "фінансова та страхова діяльність                    16724.4  19245.5   \n",
       "операції з нерухомим майном                         11009.0  12841.1   \n",
       "професійна, наукова та технічна діяльність          13591.6  14743.3   \n",
       "діяльність у сфері адміністративного та допоміж...   2286.5   2481.8   \n",
       "освіта                                                197.2    215.6   \n",
       "охорона здоров'я та надання соціальної допомоги       355.6    547.4   \n",
       "мистецтво, спорт, розваги та відпочинок               857.4    995.6   \n",
       "надання інших видів послуг                            105.2    124.6   \n",
       "\n",
       "                                                    spends_0  spends_1  \\\n",
       "area                                                                     \n",
       "сільське, лісове та рибне господарство                1748.7    1863.3   \n",
       "промисловість                                        11365.7   13718.6   \n",
       "будівництво                                           3622.7    3536.4   \n",
       "оптова та роздрібна торгівля; ремонт автотрансп...   10866.2   14383.0   \n",
       "транспорт, складське господарство, поштова та к...    1855.7    2032.3   \n",
       "тимчасове розміщування й організація харчування        299.2     366.7   \n",
       "інформація та телекомунікації                          739.2    1014.1   \n",
       "фінансова та страхова діяльність                       753.0     958.0   \n",
       "операції з нерухомим майном                           2923.4    3277.7   \n",
       "професійна, наукова та технічна діяльність            1155.8     992.1   \n",
       "діяльність у сфері адміністративного та допоміж...    2130.8    2240.7   \n",
       "освіта                                                  16.5      17.3   \n",
       "охорона здоров'я та надання соціальної допомоги        123.0     117.0   \n",
       "мистецтво, спорт, розваги та відпочинок                211.4     239.2   \n",
       "надання інших видів послуг                              24.9      19.7   \n",
       "\n",
       "                                                    other_0  other_1  \n",
       "area                                                                  \n",
       "сільське, лісове та рибне господарство               4149.6   5024.0  \n",
       "промисловість                                       19039.8  23066.6  \n",
       "будівництво                                          8558.1   9887.9  \n",
       "оптова та роздрібна торгівля; ремонт автотрансп...  21099.6  22926.6  \n",
       "транспорт, складське господарство, поштова та к...   2816.9   3272.3  \n",
       "тимчасове розміщування й організація харчування       457.2    644.3  \n",
       "інформація та телекомунікації                        1119.9   1113.6  \n",
       "фінансова та страхова діяльність                     5189.4   5618.5  \n",
       "операції з нерухомим майном                          5653.1   6988.7  \n",
       "професійна, наукова та технічна діяльність           3513.5   3992.6  \n",
       "діяльність у сфері адміністративного та допоміж...   1384.5   1450.2  \n",
       "освіта                                                 21.5     24.1  \n",
       "охорона здоров'я та надання соціальної допомоги        86.1     97.5  \n",
       "мистецтво, спорт, розваги та відпочинок               885.6    939.0  \n",
       "надання інших видів послуг                             64.8     69.9  "
      ]
     },
     "execution_count": 7,
     "metadata": {},
     "output_type": "execute_result"
    }
   ],
   "source": [
    "df"
   ]
  },
  {
   "cell_type": "markdown",
   "id": "rental-southwest",
   "metadata": {},
   "source": [
    "## EDA"
   ]
  },
  {
   "cell_type": "markdown",
   "id": "korean-marketing",
   "metadata": {},
   "source": [
    "### Total currency values grow in different areas by year"
   ]
  },
  {
   "cell_type": "code",
   "execution_count": 8,
   "id": "linear-express",
   "metadata": {
    "scrolled": true
   },
   "outputs": [
    {
     "data": {
      "image/png": "[encoded data removed]",
      "text/plain": [
       "<Figure size 360x360 with 1 Axes>"
      ]
     },
     "metadata": {
      "needs_background": "light"
     },
     "output_type": "display_data"
    }
   ],
   "source": [
    "change_df = pd.DataFrame(data=df.total_1 - df.total_0, columns=['change'])\\\n",
    "    .sort_values('change', ascending=False)\n",
    "\n",
    "plt.figure(figsize=(5, 5))\n",
    "sns.barplot(\n",
    "    x=change_df.change,\n",
    "    y=change_df.index,\n",
    "    palette='rocket'\n",
    ")\n",
    "plt.show()"
   ]
  },
  {
   "cell_type": "markdown",
   "id": "gentle-buffalo",
   "metadata": {},
   "source": [
    "### Check for empty values"
   ]
  },
  {
   "cell_type": "code",
   "execution_count": 9,
   "id": "transparent-translator",
   "metadata": {},
   "outputs": [
    {
     "data": {
      "text/plain": [
       "total_0      0\n",
       "total_1      0\n",
       "stocks_0     0\n",
       "stocks_1     0\n",
       "biology_0    0\n",
       "biology_1    0\n",
       "debt_0       0\n",
       "debt_1       0\n",
       "invest_0     0\n",
       "invest_1     0\n",
       "funds_0      0\n",
       "funds_1      0\n",
       "spends_0     0\n",
       "spends_1     0\n",
       "other_0      0\n",
       "other_1      0\n",
       "dtype: int64"
      ]
     },
     "execution_count": 9,
     "metadata": {},
     "output_type": "execute_result"
    }
   ],
   "source": [
    "df.isnull().sum()"
   ]
  },
  {
   "cell_type": "markdown",
   "id": "palestinian-terminal",
   "metadata": {},
   "source": [
    "### Check all areas values"
   ]
  },
  {
   "cell_type": "code",
   "execution_count": 10,
   "id": "banner-serbia",
   "metadata": {
    "scrolled": true
   },
   "outputs": [
    {
     "data": {
      "text/plain": [
       "['сільське, лісове та рибне господарство',\n",
       " 'промисловість',\n",
       " 'будівництво',\n",
       " 'оптова та роздрібна торгівля; ремонт автотранспортних засобів і мотоциклів',\n",
       " \"транспорт, складське господарство, поштова та кур'єрська діяльність\",\n",
       " 'тимчасове розміщування й організація харчування',\n",
       " 'інформація та телекомунікації',\n",
       " 'фінансова та страхова діяльність',\n",
       " 'операції з нерухомим майном',\n",
       " 'професійна, наукова та технічна діяльність',\n",
       " 'діяльність у сфері адміністративного та допоміжного обслуговування',\n",
       " 'освіта',\n",
       " \"охорона здоров'я та надання соціальної допомоги\",\n",
       " 'мистецтво, спорт, розваги та відпочинок',\n",
       " 'надання інших видів послуг']"
      ]
     },
     "execution_count": 10,
     "metadata": {},
     "output_type": "execute_result"
    }
   ],
   "source": [
    "[*df.index]"
   ]
  },
  {
   "cell_type": "markdown",
   "id": "synthetic-behavior",
   "metadata": {},
   "source": [
    "### Check for negative currency values "
   ]
  },
  {
   "cell_type": "code",
   "execution_count": 11,
   "id": "original-stability",
   "metadata": {},
   "outputs": [
    {
     "data": {
      "text/plain": [
       "total_0      0\n",
       "total_1      0\n",
       "stocks_0     0\n",
       "stocks_1     0\n",
       "biology_0    0\n",
       "biology_1    0\n",
       "debt_0       0\n",
       "debt_1       0\n",
       "invest_0     0\n",
       "invest_1     0\n",
       "funds_0      0\n",
       "funds_1      0\n",
       "spends_0     0\n",
       "spends_1     0\n",
       "other_0      0\n",
       "other_1      0\n",
       "dtype: int64"
      ]
     },
     "execution_count": 11,
     "metadata": {},
     "output_type": "execute_result"
    }
   ],
   "source": [
    "(df < 0).astype(int).sum(axis=0)"
   ]
  },
  {
   "cell_type": "markdown",
   "id": "conceptual-tracy",
   "metadata": {},
   "source": [
    "## Hierarchical clustering"
   ]
  },
  {
   "cell_type": "markdown",
   "id": "spare-victor",
   "metadata": {},
   "source": [
    "### Visualize data"
   ]
  },
  {
   "cell_type": "code",
   "execution_count": 12,
   "id": "august-provision",
   "metadata": {},
   "outputs": [
    {
     "data": {
      "image/png": "[encoded data removed]",
      "text/plain": [
       "<Figure size 360x360 with 1 Axes>"
      ]
     },
     "metadata": {
      "needs_background": "light"
     },
     "output_type": "display_data"
    }
   ],
   "source": [
    "scaler = preprocessing.StandardScaler()\n",
    "norm_df = scaler.fit_transform(df)\n",
    "\n",
    "pca = decomposition.PCA(n_components=2, random_state=4)\n",
    "x, y = pca.fit_transform(norm_df).T\n",
    "\n",
    "plt.figure(figsize=(5, 5))\n",
    "plt.scatter(x, y, color='black')\n",
    "plt.show()"
   ]
  },
  {
   "cell_type": "markdown",
   "id": "handy-pioneer",
   "metadata": {},
   "source": [
    "## Compute distances"
   ]
  },
  {
   "cell_type": "code",
   "execution_count": 13,
   "id": "electric-medline",
   "metadata": {},
   "outputs": [],
   "source": [
    "metrics = ['euclidean', 'seuclidean', 'chebyshev']\n",
    "n_metrics = len(metrics)"
   ]
  },
  {
   "cell_type": "code",
   "execution_count": 14,
   "id": "mighty-wisconsin",
   "metadata": {},
   "outputs": [],
   "source": [
    "dist_dict = {}\n",
    "for metric in metrics:\n",
    "    dist_dict[metric] = distance.pdist(norm_df, metric)"
   ]
  },
  {
   "cell_type": "code",
   "execution_count": 15,
   "id": "mobile-formula",
   "metadata": {},
   "outputs": [
    {
     "data": {
      "text/plain": [
       "{'euclidean': array([ 9.89955527,  5.89853474, 11.3598286 ,  5.88541916,  6.08413453,\n",
       "         5.97843032,  6.97289257,  5.90432157,  5.93451381,  6.00133333,\n",
       "         6.14165566,  6.12791884,  6.09013678,  6.13871558,  8.07888745,\n",
       "         4.17103499,  8.77402255, 10.49016113, 10.04312723,  8.54550122,\n",
       "         8.6206535 ,  8.30838337,  9.96587321, 10.66794627, 10.62588594,\n",
       "        10.50784571, 10.66089636,  9.1707213 ,  2.1646589 ,  2.8071115 ,\n",
       "         2.42953659,  3.46845816,  1.05680704,  1.75542324,  2.22061017,\n",
       "         2.99527581,  2.95369896,  2.78884576,  2.98541276, 10.10296182,\n",
       "        11.73393482, 11.22964215,  8.24746093,  9.61731908,  9.11932952,\n",
       "        11.09300295, 11.91645444, 11.87458055, 11.73829254, 11.90921731,\n",
       "         2.20194526,  1.64849464,  4.16303469,  1.52749319,  1.97944938,\n",
       "         1.94134365,  2.3569169 ,  2.31854756,  2.22260492,  2.3571111 ,\n",
       "         0.61269886,  4.87685979,  2.26895055,  2.84402192,  0.85407794,\n",
       "         0.19810366,  0.1538489 ,  0.111193  ,  0.19158774,  4.46181161,\n",
       "         1.77629122,  2.38923222,  0.64514635,  0.77914973,  0.73763671,\n",
       "         0.62730454,  0.77800538,  3.54377868,  2.5464653 ,  4.40680195,\n",
       "         5.00395606,  4.97657694,  4.85962514,  4.99827577,  1.59357526,\n",
       "         1.63521166,  2.46056975,  2.41736089,  2.25707842,  2.45396491,\n",
       "         2.42721112,  2.99500748,  2.9614932 ,  2.84879502,  2.98869412,\n",
       "         1.02487278,  0.97984977,  0.86805493,  1.01891671,  0.0497061 ,\n",
       "         0.22891718,  0.01485963,  0.19634932,  0.04758428,  0.22107644]),\n",
       " 'seuclidean': array([ 9.563879  ,  5.69852594, 10.97463707,  5.68585509,  5.87783237,\n",
       "         5.77571241,  6.73645421,  5.70411655,  5.73328503,  5.79783882,\n",
       "         5.93340306,  5.92013204,  5.8836311 ,  5.93056268,  7.80494679,\n",
       "         4.02960263,  8.47651109, 10.13445847,  9.70258269,  8.25573851,\n",
       "         8.32834251,  8.0266609 ,  9.62794822, 10.30621523, 10.26558109,\n",
       "        10.15154339, 10.29940437,  8.8597585 ,  2.09125917,  2.71192736,\n",
       "         2.34715534,  3.35084892,  1.0209726 ,  1.69589997,  2.14531324,\n",
       "         2.89371135,  2.85354429,  2.69428098,  2.88418274,  9.7603884 ,\n",
       "        11.33605802, 10.84886501,  7.96780423,  9.29121294,  8.81010932,\n",
       "        10.716859  , 11.51238872, 11.4719347 , 11.34026797, 11.50539698,\n",
       "         2.12728122,  1.59259713,  4.02187361,  1.47569862,  1.91232978,\n",
       "         1.87551615,  2.27699805,  2.23992974,  2.14724035,  2.27718566,\n",
       "         0.59192334,  4.71149417,  2.19201448,  2.74758621,  0.82511768,\n",
       "         0.19138632,  0.14863216,  0.10742264,  0.18509134,  4.31051953,\n",
       "         1.71606035,  2.30821761,  0.62327059,  0.75273015,  0.71262477,\n",
       "         0.60603376,  0.7516246 ,  3.42361546,  2.4601192 ,  4.25737515,\n",
       "         4.83428084,  4.80783009,  4.69484392,  4.82879315,  1.53953996,\n",
       "         1.57976455,  2.37713622,  2.33539249,  2.18054492,  2.37075534,\n",
       "         2.34490872,  2.89345212,  2.86107425,  2.75219746,  2.88735283,\n",
       "         0.99012117,  0.94662481,  0.83862074,  0.98436706,  0.04802066,\n",
       "         0.221155  ,  0.01435577,  0.18969146,  0.04597078,  0.21358013]),\n",
       " 'chebyshev': array([3.67631068, 4.02843957, 3.95908252, 4.01848467, 4.02909178,\n",
       "        4.02909178, 4.02922909, 4.02425164, 4.02909178, 4.02885149,\n",
       "        4.02929775, 4.02926342, 4.02888582, 4.02926342, 2.61953357,\n",
       "        2.86894505, 2.94653039, 3.26338811, 3.24053987, 3.00471872,\n",
       "        3.14882015, 2.89067605, 3.25540992, 3.2869061 , 3.27918404,\n",
       "        3.27910897, 3.28343515, 2.76488477, 1.06420087, 1.26406602,\n",
       "        1.19444287, 2.11859297, 0.55409989, 0.80252545, 1.14862161,\n",
       "        1.34275618, 1.33276426, 1.21821111, 1.33652144, 3.2337783 ,\n",
       "        3.30644743, 3.16467064, 2.99982447, 2.77251306, 2.9922048 ,\n",
       "        3.14605277, 3.35509559, 3.34831962, 3.31469903, 3.3527904 ,\n",
       "        1.44596048, 1.0844161 , 2.72163834, 0.81219663, 1.00316091,\n",
       "        1.36896131, 1.50232312, 1.49221232, 1.46018199, 1.50819556,\n",
       "        0.36154438, 2.79675986, 0.8636613 , 1.07828243, 0.51857141,\n",
       "        0.08442764, 0.07443572, 0.06684762, 0.0781929 , 2.61453843,\n",
       "        0.79977563, 0.896061  , 0.39399649, 0.41790702, 0.40779622,\n",
       "        0.37576589, 0.42377946, 2.13336802, 1.71847743, 2.48105227,\n",
       "        2.82167307, 2.8143507 , 2.74375521, 2.81982591, 0.79101125,\n",
       "        0.75395437, 0.94808894, 0.93809702, 0.82354387, 0.9418542 ,\n",
       "        0.90124798, 1.10319564, 1.09587327, 1.03529881, 1.10134848,\n",
       "        0.5986108 , 0.568458  , 0.54342977, 0.59623255, 0.03015279,\n",
       "        0.13483433, 0.00675654, 0.12475414, 0.02777454, 0.12807779])}"
      ]
     },
     "execution_count": 15,
     "metadata": {},
     "output_type": "execute_result"
    }
   ],
   "source": [
    "dist_dict"
   ]
  },
  {
   "cell_type": "markdown",
   "id": "swedish-terminal",
   "metadata": {},
   "source": [
    "## Clusterize data and compute cophenet"
   ]
  },
  {
   "cell_type": "code",
   "execution_count": 16,
   "id": "resistant-seating",
   "metadata": {},
   "outputs": [],
   "source": [
    "methods = ['average', 'centroid', 'median']\n",
    "n_methods = len(methods)"
   ]
  },
  {
   "cell_type": "code",
   "execution_count": 17,
   "id": "previous-infrared",
   "metadata": {},
   "outputs": [],
   "source": [
    "cophenets = np.zeros((n_metrics, n_methods))\n",
    "clustereds = defaultdict(dict)\n",
    "\n",
    "for dist_idx, (metric, dist) in enumerate(dist_dict.items()):\n",
    "    for method_idx, method in enumerate(methods):\n",
    "        \n",
    "        clustered = hierarchy.linkage(dist, method)\n",
    "        cophenet = hierarchy.cophenet(clustered, dist)[0]\n",
    "        \n",
    "        clustereds[metric][method] = clustered\n",
    "        cophenets[dist_idx][method_idx] = cophenet\n",
    "\n",
    "cophenet_df = pd.DataFrame(cophenets, metrics, methods)"
   ]
  },
  {
   "cell_type": "code",
   "execution_count": 18,
   "id": "substantial-frank",
   "metadata": {},
   "outputs": [
    {
     "data": {
      "text/html": [
       "<div>\n",
       "<style scoped>\n",
       "    .dataframe tbody tr th:only-of-type {\n",
       "        vertical-align: middle;\n",
       "    }\n",
       "\n",
       "    .dataframe tbody tr th {\n",
       "        vertical-align: top;\n",
       "    }\n",
       "\n",
       "    .dataframe thead th {\n",
       "        text-align: right;\n",
       "    }\n",
       "</style>\n",
       "<table border=\"1\" class=\"dataframe\">\n",
       "  <thead>\n",
       "    <tr style=\"text-align: right;\">\n",
       "      <th></th>\n",
       "      <th>average</th>\n",
       "      <th>centroid</th>\n",
       "      <th>median</th>\n",
       "    </tr>\n",
       "  </thead>\n",
       "  <tbody>\n",
       "    <tr>\n",
       "      <th>euclidean</th>\n",
       "      <td>0.981662</td>\n",
       "      <td>0.981498</td>\n",
       "      <td>0.979090</td>\n",
       "    </tr>\n",
       "    <tr>\n",
       "      <th>seuclidean</th>\n",
       "      <td>0.981662</td>\n",
       "      <td>0.981498</td>\n",
       "      <td>0.979090</td>\n",
       "    </tr>\n",
       "    <tr>\n",
       "      <th>chebyshev</th>\n",
       "      <td>0.988820</td>\n",
       "      <td>0.983404</td>\n",
       "      <td>0.984053</td>\n",
       "    </tr>\n",
       "  </tbody>\n",
       "</table>\n",
       "</div>"
      ],
      "text/plain": [
       "             average  centroid    median\n",
       "euclidean   0.981662  0.981498  0.979090\n",
       "seuclidean  0.981662  0.981498  0.979090\n",
       "chebyshev   0.988820  0.983404  0.984053"
      ]
     },
     "execution_count": 18,
     "metadata": {},
     "output_type": "execute_result"
    }
   ],
   "source": [
    "cophenet_df"
   ]
  },
  {
   "cell_type": "markdown",
   "id": "tribal-desire",
   "metadata": {},
   "source": [
    "## Find best and worst metric and method"
   ]
  },
  {
   "cell_type": "code",
   "execution_count": 19,
   "id": "automatic-reward",
   "metadata": {},
   "outputs": [
    {
     "data": {
      "text/html": [
       "<div>\n",
       "<style scoped>\n",
       "    .dataframe tbody tr th:only-of-type {\n",
       "        vertical-align: middle;\n",
       "    }\n",
       "\n",
       "    .dataframe tbody tr th {\n",
       "        vertical-align: top;\n",
       "    }\n",
       "\n",
       "    .dataframe thead th {\n",
       "        text-align: right;\n",
       "    }\n",
       "</style>\n",
       "<table border=\"1\" class=\"dataframe\">\n",
       "  <thead>\n",
       "    <tr style=\"text-align: right;\">\n",
       "      <th></th>\n",
       "      <th>average</th>\n",
       "      <th>centroid</th>\n",
       "      <th>median</th>\n",
       "    </tr>\n",
       "  </thead>\n",
       "  <tbody>\n",
       "    <tr>\n",
       "      <th>0</th>\n",
       "      <td>euclidean</td>\n",
       "      <td>seuclidean</td>\n",
       "      <td>euclidean</td>\n",
       "    </tr>\n",
       "    <tr>\n",
       "      <th>1</th>\n",
       "      <td>0.981662</td>\n",
       "      <td>0.981498</td>\n",
       "      <td>0.97909</td>\n",
       "    </tr>\n",
       "  </tbody>\n",
       "</table>\n",
       "</div>"
      ],
      "text/plain": [
       "     average    centroid     median\n",
       "0  euclidean  seuclidean  euclidean\n",
       "1   0.981662    0.981498    0.97909"
      ]
     },
     "execution_count": 19,
     "metadata": {},
     "output_type": "execute_result"
    }
   ],
   "source": [
    "pd.DataFrame([cophenet_df.idxmin(), cophenet_df.min()])"
   ]
  },
  {
   "cell_type": "code",
   "execution_count": 20,
   "id": "serious-mention",
   "metadata": {},
   "outputs": [
    {
     "data": {
      "text/html": [
       "<div>\n",
       "<style scoped>\n",
       "    .dataframe tbody tr th:only-of-type {\n",
       "        vertical-align: middle;\n",
       "    }\n",
       "\n",
       "    .dataframe tbody tr th {\n",
       "        vertical-align: top;\n",
       "    }\n",
       "\n",
       "    .dataframe thead th {\n",
       "        text-align: right;\n",
       "    }\n",
       "</style>\n",
       "<table border=\"1\" class=\"dataframe\">\n",
       "  <thead>\n",
       "    <tr style=\"text-align: right;\">\n",
       "      <th></th>\n",
       "      <th>average</th>\n",
       "      <th>centroid</th>\n",
       "      <th>median</th>\n",
       "    </tr>\n",
       "  </thead>\n",
       "  <tbody>\n",
       "    <tr>\n",
       "      <th>0</th>\n",
       "      <td>chebyshev</td>\n",
       "      <td>chebyshev</td>\n",
       "      <td>chebyshev</td>\n",
       "    </tr>\n",
       "    <tr>\n",
       "      <th>1</th>\n",
       "      <td>0.98882</td>\n",
       "      <td>0.983404</td>\n",
       "      <td>0.984053</td>\n",
       "    </tr>\n",
       "  </tbody>\n",
       "</table>\n",
       "</div>"
      ],
      "text/plain": [
       "     average   centroid     median\n",
       "0  chebyshev  chebyshev  chebyshev\n",
       "1    0.98882   0.983404   0.984053"
      ]
     },
     "execution_count": 20,
     "metadata": {},
     "output_type": "execute_result"
    }
   ],
   "source": [
    "pd.DataFrame([cophenet_df.idxmax(), cophenet_df.max()])"
   ]
  },
  {
   "cell_type": "code",
   "execution_count": 21,
   "id": "sublime-comedy",
   "metadata": {},
   "outputs": [],
   "source": [
    "best_metric = 'chebyshev'\n",
    "best_method = 'average'\n",
    "best_clustered = clustereds[best_metric][best_method]"
   ]
  },
  {
   "source": [
    "## Dengdrogram"
   ],
   "cell_type": "markdown",
   "metadata": {}
  },
  {
   "cell_type": "code",
   "execution_count": 22,
   "id": "tough-pearl",
   "metadata": {},
   "outputs": [],
   "source": [
    "def pretty_dendrogram(*args, **kwargs):\n",
    "    annotate_above = kwargs.pop('annotate_above', 0)\n",
    "    max_d = kwargs.pop('max_d', 0)\n",
    "    if max_d and 'color_threshold' not in kwargs:\n",
    "        kwargs['color_threshold'] = max_d\n",
    "        \n",
    "    ddata = hierarchy.dendrogram(*args, **kwargs, orientation='right')\n",
    "    \n",
    "    if max_d: plt.axvline(max_d)\n",
    "    \n",
    "    for i, d, c in zip(ddata['icoord'], ddata['dcoord'], ddata['color_list']):\n",
    "        y = 0.5 * sum(i[1:3])\n",
    "        x = d[1]\n",
    "        if y > annotate_above:\n",
    "            plt.plot(x, y, 'o', c=c)\n",
    "            plt.annotate('%.3g' % y, (x, y), xytext=(0, -5),\n",
    "                         textcoords='offset points',\n",
    "                         va='top', ha='center')\n",
    "        \n",
    "    return ddata"
   ]
  },
  {
   "cell_type": "code",
   "execution_count": 23,
   "id": "realistic-boulder",
   "metadata": {
    "scrolled": false
   },
   "outputs": [
    {
     "data": {
      "image/png": "[encoded data removed]",
      "text/plain": [
       "<Figure size 1080x648 with 1 Axes>"
      ]
     },
     "metadata": {
      "needs_background": "light"
     },
     "output_type": "display_data"
    }
   ],
   "source": [
    "plt.figure(figsize=(15, 9))\n",
    "plt.title(f'method: {best_method}, metric: {best_metric}')\n",
    "plt.xlabel('distance')\n",
    "plt.ylabel('area')\n",
    "        \n",
    "pretty_dendrogram(\n",
    "    Z=best_clustered,\n",
    "    labels=df.index,\n",
    "    max_d=1.1\n",
    ")\n",
    "\n",
    "plt.show()"
   ]
  },
  {
   "cell_type": "markdown",
   "id": "initial-trial",
   "metadata": {},
   "source": [
    "# Determine number of clusters"
   ]
  },
  {
   "cell_type": "code",
   "execution_count": 24,
   "id": "treated-emerald",
   "metadata": {},
   "outputs": [],
   "source": [
    "def plot_clusters_method(x: np.ndarray, y: np.ndarray, ylabel: str) -> None:\n",
    "    plt.figure(figsize=(8, 8))\n",
    "    plt.xlabel('Clusters number')\n",
    "    plt.ylabel(ylabel)\n",
    "    plt.plot(x, y, '-ro')"
   ]
  },
  {
   "cell_type": "markdown",
   "id": "trying-merit",
   "metadata": {},
   "source": [
    "### Silhouette score"
   ]
  },
  {
   "cell_type": "code",
   "execution_count": 25,
   "id": "purple-nation",
   "metadata": {},
   "outputs": [],
   "source": [
    "def silhouette(clustered: np.ndarray, min_clusters: int = 2, max_clusters: int = 15) -> np.ndarray:\n",
    "    n_clusters = np.arange(min_clusters, max_clusters)\n",
    "    scores = np.zeros(n_clusters.size)\n",
    "    dist_matrix = distance.squareform(dist_dict[best_metric])\n",
    "\n",
    "    for idx, num in enumerate(n_clusters):\n",
    "        targets = hierarchy.fcluster(clustered, num, criterion='maxclust')\n",
    "        score = silhouette_score(dist_matrix, labels=targets)\n",
    "        scores[idx] = score\n",
    "    \n",
    "    plot_clusters_method(n_clusters, scores, 'Silhouette score')\n",
    "\n",
    "    return scores"
   ]
  },
  {
   "cell_type": "code",
   "execution_count": 26,
   "id": "unavailable-accommodation",
   "metadata": {},
   "outputs": [
    {
     "data": {
      "text/plain": [
       "array([0.50365358, 0.55770888, 0.50957607, 0.51330365, 0.46036508,\n",
       "       0.39858095, 0.33389276, 0.31324358, 0.32689641, 0.26937955,\n",
       "       0.21562792, 0.15658858, 0.15658858])"
      ]
     },
     "execution_count": 26,
     "metadata": {},
     "output_type": "execute_result"
    },
    {
     "data": {
      "image/png": "[encoded data removed]",
      "text/plain": [
       "<Figure size 576x576 with 1 Axes>"
      ]
     },
     "metadata": {
      "needs_background": "light"
     },
     "output_type": "display_data"
    }
   ],
   "source": [
    "silhouette(best_clustered)"
   ]
  },
  {
   "cell_type": "markdown",
   "id": "close-brook",
   "metadata": {},
   "source": [
    "### Elbow method"
   ]
  },
  {
   "cell_type": "code",
   "execution_count": 27,
   "id": "deluxe-explosion",
   "metadata": {},
   "outputs": [],
   "source": [
    "def elbow(clustered: np.ndarray, min_clusters: int = 1, max_clusters: int = 15) -> np.ndarray:\n",
    "    n_clusters = np.arange(min_clusters, max_clusters)\n",
    "    inertias = np.zeros_like(n_clusters)\n",
    "    \n",
    "    for idx, num in enumerate(n_clusters):\n",
    "        targets = hierarchy.fcluster(clustered, num, 'maxclust')\n",
    "        result = pd.DataFrame(norm_df)\n",
    "        result['target'] = targets\n",
    "        \n",
    "        centroids = result.groupby('target').agg(np.mean).values\n",
    "        inertia = np.square(norm_df - centroids[targets - 1]).sum()\n",
    "        inertias[idx] = inertia\n",
    "    \n",
    "    plot_clusters_method(n_clusters, inertias, 'Inertia')\n",
    "    \n",
    "    return inertias"
   ]
  },
  {
   "cell_type": "code",
   "execution_count": 28,
   "id": "packed-burning",
   "metadata": {},
   "outputs": [
    {
     "data": {
      "text/plain": [
       "array([240, 209,  42,  34,  18,   5,   3,   1,   1,   0,   0,   0,   0,\n",
       "         0])"
      ]
     },
     "execution_count": 28,
     "metadata": {},
     "output_type": "execute_result"
    },
    {
     "data": {
      "image/png": "[encoded data removed]",
      "text/plain": [
       "<Figure size 576x576 with 1 Axes>"
      ]
     },
     "metadata": {
      "needs_background": "light"
     },
     "output_type": "display_data"
    }
   ],
   "source": [
    "elbow(best_clustered)"
   ]
  },
  {
   "cell_type": "markdown",
   "id": "adult-bermuda",
   "metadata": {},
   "source": [
    "## Split on clusters"
   ]
  },
  {
   "cell_type": "code",
   "execution_count": 29,
   "id": "furnished-acrobat",
   "metadata": {},
   "outputs": [],
   "source": [
    "n_clusters = 6"
   ]
  },
  {
   "cell_type": "code",
   "execution_count": 30,
   "id": "sought-diamond",
   "metadata": {},
   "outputs": [],
   "source": [
    "targets = hierarchy.fcluster(\n",
    "    Z=best_clustered,\n",
    "    t=n_clusters,\n",
    "    criterion='maxclust'\n",
    ")"
   ]
  },
  {
   "cell_type": "code",
   "execution_count": 31,
   "id": "ahead-subject",
   "metadata": {},
   "outputs": [],
   "source": [
    "target_df = pd.DataFrame(norm_df, columns=df.columns)\n",
    "target_df['target'] = targets"
   ]
  },
  {
   "cell_type": "markdown",
   "id": "latter-anthropology",
   "metadata": {},
   "source": [
    "## Find centeroids and distances between them"
   ]
  },
  {
   "cell_type": "markdown",
   "id": "applicable-drink",
   "metadata": {},
   "source": [
    "### Centroids"
   ]
  },
  {
   "cell_type": "code",
   "execution_count": 32,
   "id": "committed-essay",
   "metadata": {},
   "outputs": [
    {
     "data": {
      "text/plain": [
       "array([[-0.66492667, -0.66935991, -0.67741149, -0.6528678 , -0.30361402,\n",
       "        -0.29870236, -0.6221982 , -0.64108899, -0.56732902, -0.57149817,\n",
       "        -0.70456072, -0.70050608, -0.57077531, -0.53886115, -0.68060751,\n",
       "        -0.68807939],\n",
       "       [-0.10619685, -0.09072074, -0.18599059, -0.20734855, -0.29957444,\n",
       "        -0.29306682, -0.09998269, -0.06349991, -0.02010336, -0.00907087,\n",
       "         0.07339613,  0.03256618, -0.03765938, -0.11741175,  0.03111858,\n",
       "         0.04914124],\n",
       "       [ 0.33954967,  0.27485385,  0.6063741 ,  0.33410915, -0.30373662,\n",
       "        -0.29883795, -0.0144873 , -0.01571178,  2.12566599,  2.15591043,\n",
       "         0.25695453,  0.31113018, -0.50096482, -0.45295078,  0.03954475,\n",
       "        -0.00760784],\n",
       "       [ 2.22716313,  2.24144929,  2.56610373,  2.61684251,  0.04918179,\n",
       "         0.0690231 ,  2.30726037,  2.29666494, -0.17233524, -0.15881218,\n",
       "         2.20167658,  2.22276699,  2.5037539 ,  2.39841311,  2.20076387,\n",
       "         2.36759686],\n",
       "       [ 2.57718067,  2.56596794,  2.06618277,  2.13672485, -0.14734169,\n",
       "        -0.23304194,  2.60646446,  2.57884302,  2.69660981,  2.6540265 ,\n",
       "         2.40501617,  2.46832532,  2.36233306,  2.54687369,  2.52217547,\n",
       "         2.3485387 ],\n",
       "       [-0.06461936, -0.03386875,  0.24718222,  0.31179231,  3.72549247,\n",
       "         3.72604058, -0.14391939, -0.11817361, -0.59822396, -0.61435406,\n",
       "        -0.22530677, -0.22894467, -0.21905744, -0.25066094, -0.12270585,\n",
       "        -0.08853694]])"
      ]
     },
     "execution_count": 32,
     "metadata": {},
     "output_type": "execute_result"
    }
   ],
   "source": [
    "centroids = target_df.groupby('target').agg(np.mean).values\n",
    "centroids"
   ]
  },
  {
   "cell_type": "markdown",
   "id": "important-trading",
   "metadata": {},
   "source": [
    "### Distance between centroids"
   ]
  },
  {
   "cell_type": "code",
   "execution_count": 33,
   "id": "continuing-vietnam",
   "metadata": {},
   "outputs": [
    {
     "data": {
      "text/plain": [
       "array([ 2.22791902,  4.78706223, 10.41911903, 11.63961853,  6.06765378,\n",
       "        3.31606519,  8.38418207,  9.45262139,  5.81144515,  8.54550122,\n",
       "        8.24746093,  6.97289257,  4.17103499,  9.89955527, 11.3598286 ])"
      ]
     },
     "execution_count": 33,
     "metadata": {},
     "output_type": "execute_result"
    }
   ],
   "source": [
    "distance.pdist(centroids)"
   ]
  },
  {
   "cell_type": "markdown",
   "id": "circular-sweden",
   "metadata": {},
   "source": [
    "## Visualize clustered data"
   ]
  },
  {
   "cell_type": "code",
   "execution_count": 36,
   "id": "suspended-presentation",
   "metadata": {},
   "outputs": [
    {
     "data": {
      "image/png": "[encoded data removed]",
      "text/plain": [
       "<Figure size 576x576 with 1 Axes>"
      ]
     },
     "metadata": {
      "needs_background": "light"
     },
     "output_type": "display_data"
    }
   ],
   "source": [
    "target2d = pd.DataFrame({'x': x, 'y': y, 'target': targets})\n",
    "\n",
    "plt.figure(figsize=(8, 8))\n",
    "plt.scatter(x, y, c=targets, s=75)\n",
    "\n",
    "for idx, label in enumerate(df.index):\n",
    "    plt.annotate(\n",
    "        text=label, \n",
    "        xy=(x[idx] + 0.1, y[idx])\n",
    "    )\n",
    "\n",
    "plt.scatter(\n",
    "    x='x', y='y', s=75, \n",
    "    color='r', \n",
    "    marker='x', \n",
    "    data=target2d.groupby('target').agg('mean')\n",
    ")\n",
    "plt.show()"
   ]
  },
  {
   "cell_type": "code",
   "execution_count": null,
   "id": "nonprofit-providence",
   "metadata": {},
   "outputs": [],
   "source": []
  }
 ],
 "metadata": {
  "kernelspec": {
   "display_name": "Python 3",
   "language": "python",
   "name": "python3"
  },
  "language_info": {
   "codemirror_mode": {
    "name": "ipython",
    "version": 3
   },
   "file_extension": ".py",
   "mimetype": "text/x-python",
   "name": "python",
   "nbconvert_exporter": "python",
   "pygments_lexer": "ipython3",
   "version": "3.9.5-final"
  }
 },
 "nbformat": 4,
 "nbformat_minor": 5
}