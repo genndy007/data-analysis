{
 "cells": [
  {
   "cell_type": "markdown",
   "id": "7101dcb1",
   "metadata": {},
   "source": [
    "# Importing everything we'll need "
   ]
  },
  {
   "cell_type": "code",
   "execution_count": 1,
   "id": "45c0c252",
   "metadata": {},
   "outputs": [],
   "source": [
    "from sklearn import datasets  # Getting datasets to study\n",
    "from dtreeviz.trees import *  # Getting functions for tree building and visualization"
   ]
  },
  {
   "cell_type": "markdown",
   "id": "58e84237",
   "metadata": {},
   "source": [
    "# Setting up data for testing"
   ]
  },
  {
   "cell_type": "code",
   "execution_count": 2,
   "id": "b6c823d8",
   "metadata": {},
   "outputs": [],
   "source": [
    "dataset = datasets.load_wine()  # Getting wine dataset\n",
    "test_unit = [11.62, 1.99, 2.28, 18, 98, 3.02, \n",
    "             2.26, .17, 1.35, 3.25, 1.16, 2.96, 345] # Unit for checking tree effectiveness"
   ]
  },
  {
   "cell_type": "markdown",
   "id": "3c783e47",
   "metadata": {},
   "source": [
    "# Printing our test unit in human-readable form"
   ]
  },
  {
   "cell_type": "code",
   "execution_count": 3,
   "id": "5246c099",
   "metadata": {},
   "outputs": [
    {
     "name": "stdout",
     "output_type": "stream",
     "text": [
      "Find out the class for unit with such characteristics:\n",
      "alcohol: 11.62\n",
      "malic_acid: 1.99\n",
      "ash: 2.28\n",
      "alcalinity_of_ash: 18\n",
      "magnesium: 98\n",
      "total_phenols: 3.02\n",
      "flavanoids: 2.26\n",
      "nonflavanoid_phenols: 0.17\n",
      "proanthocyanins: 1.35\n",
      "color_intensity: 3.25\n",
      "hue: 1.16\n",
      "od280/od315_of_diluted_wines: 2.96\n",
      "proline: 345\n"
     ]
    }
   ],
   "source": [
    "print('Find out the class for unit with such characteristics:')\n",
    "print(*[f\"{dataset['feature_names'][i]}: {test_unit[i]}\" for i in range(len(test_unit))], sep='\\n')"
   ]
  },
  {
   "cell_type": "markdown",
   "id": "bc14e179",
   "metadata": {},
   "source": [
    "# Creating tree and fitting data to it"
   ]
  },
  {
   "cell_type": "code",
   "execution_count": 4,
   "id": "2b111339",
   "metadata": {},
   "outputs": [
    {
     "data": {
      "text/plain": [
       "DecisionTreeClassifier(max_depth=3)"
      ]
     },
     "execution_count": 4,
     "metadata": {},
     "output_type": "execute_result"
    }
   ],
   "source": [
    "clf = tree.DecisionTreeClassifier(max_depth=3)   # Tree model\n",
    "clf.fit(dataset.data, dataset.target)       # Fit data+target into tree model"
   ]
  },
  {
   "cell_type": "markdown",
   "id": "c98ebb74",
   "metadata": {},
   "source": [
    "# Checking our tree parameters"
   ]
  },
  {
   "cell_type": "code",
   "execution_count": 5,
   "id": "9e20a772",
   "metadata": {},
   "outputs": [
    {
     "name": "stdout",
     "output_type": "stream",
     "text": [
      "Tree parameters:\n",
      "ccp_alpha: 0.0\n",
      "class_weight: None\n",
      "criterion: gini\n",
      "max_depth: 3\n",
      "max_features: None\n",
      "max_leaf_nodes: None\n",
      "min_impurity_decrease: 0.0\n",
      "min_impurity_split: None\n",
      "min_samples_leaf: 1\n",
      "min_samples_split: 2\n",
      "min_weight_fraction_leaf: 0.0\n",
      "random_state: None\n",
      "splitter: best\n"
     ]
    }
   ],
   "source": [
    "print('Tree parameters:')\n",
    "for line in list(clf.get_params().items()):\n",
    "    name, value = line\n",
    "    print(f'{name}: {value}')"
   ]
  },
  {
   "cell_type": "markdown",
   "id": "32d24a00",
   "metadata": {},
   "source": [
    "# Predicting test unit class number by its parameters"
   ]
  },
  {
   "cell_type": "code",
   "execution_count": 6,
   "id": "53ff0960",
   "metadata": {},
   "outputs": [
    {
     "name": "stdout",
     "output_type": "stream",
     "text": [
      "Class predicted by tree for unit:  [1]\n"
     ]
    }
   ],
   "source": [
    "class_number = clf.predict([test_unit])\n",
    "print('Class predicted by tree for unit: ', class_number)"
   ]
  },
  {
   "cell_type": "markdown",
   "id": "b1c81ff4",
   "metadata": {},
   "source": [
    "# Visualizing our tree"
   ]
  },
  {
   "cell_type": "code",
   "execution_count": 7,
   "id": "50f7a168",
   "metadata": {},
   "outputs": [
    {
     "name": "stdout",
     "output_type": "stream",
     "text": [
      "Save successful!\n"
     ]
    }
   ],
   "source": [
    "viz = dtreeviz(clf, dataset.data, dataset.target, target_name='wine', feature_names=dataset.feature_names,\n",
    "                   class_names=list(dataset.target_names))\n",
    "viz.save('res.svg')\n",
    "print('Save successful!')"
   ]
  }
 ],
 "metadata": {
  "kernelspec": {
   "display_name": "Python 3",
   "language": "python",
   "name": "python3"
  },
  "language_info": {
   "codemirror_mode": {
    "name": "ipython",
    "version": 3
   },
   "file_extension": ".py",
   "mimetype": "text/x-python",
   "name": "python",
   "nbconvert_exporter": "python",
   "pygments_lexer": "ipython3",
   "version": "3.9.5"
  }
 },
 "nbformat": 4,
 "nbformat_minor": 5
}
